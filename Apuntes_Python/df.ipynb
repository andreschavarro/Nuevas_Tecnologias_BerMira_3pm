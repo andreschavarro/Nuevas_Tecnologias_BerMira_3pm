{
 "cells": [
  {
   "cell_type": "code",
   "execution_count": null,
   "metadata": {},
   "outputs": [],
   "source": []
  },
  {
   "cell_type": "code",
   "execution_count": null,
   "metadata": {},
   "outputs": [],
   "source": []
  },
  {
   "cell_type": "code",
   "execution_count": null,
   "metadata": {},
   "outputs": [],
   "source": []
  },
  {
   "cell_type": "code",
   "execution_count": null,
   "metadata": {},
   "outputs": [],
   "source": []
  },
  {
   "cell_type": "code",
   "execution_count": null,
   "metadata": {},
   "outputs": [],
   "source": []
  },
  {
   "cell_type": "code",
   "execution_count": 1,
   "metadata": {},
   "outputs": [
    {
     "name": "stdout",
     "output_type": "stream",
     "text": [
      "       Marca  Modelo   Año  Precio\n",
      "0     Toyota   Camry  2022   25000\n",
      "1      Honda   Civic  2021   22000\n",
      "2       Ford   F-150  2023   35000\n",
      "3  Chevrolet  Malibu  2022   28000\n",
      "4     Nissan  Altima  2020   23000\n"
     ]
    }
   ],
   "source": [
    "import pandas as pd\n",
    "\n",
    "# Crear un diccionario con datos relacionados a carros\n",
    "datos_carros = {\n",
    "    'Marca': ['Toyota', 'Honda', 'Ford', 'Chevrolet', 'Nissan'],\n",
    "    'Modelo': ['Camry', 'Civic', 'F-150', 'Malibu', 'Altima'],\n",
    "    'Año': [2022, 2021, 2023, 2022, 2020],\n",
    "    'Precio': [25000, 22000, 35000, 28000, 23000]\n",
    "}\n",
    "\n",
    "# Crear el DataFrame a partir del diccionario\n",
    "df_carros = pd.DataFrame(datos_carros)\n",
    "\n",
    "print(df_carros)"
   ]
  },
  {
   "cell_type": "code",
   "execution_count": null,
   "metadata": {},
   "outputs": [],
   "source": []
  },
  {
   "cell_type": "code",
   "execution_count": null,
   "metadata": {},
   "outputs": [],
   "source": []
  }
 ],
 "metadata": {
  "kernelspec": {
   "display_name": "Python 3",
   "language": "python",
   "name": "python3"
  },
  "language_info": {
   "codemirror_mode": {
    "name": "ipython",
    "version": 3
   },
   "file_extension": ".py",
   "mimetype": "text/x-python",
   "name": "python",
   "nbconvert_exporter": "python",
   "pygments_lexer": "ipython3",
   "version": "3.11.4"
  },
  "orig_nbformat": 4
 },
 "nbformat": 4,
 "nbformat_minor": 2
}
